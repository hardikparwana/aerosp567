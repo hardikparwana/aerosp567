{
 "cells": [
  {
   "cell_type": "code",
   "execution_count": 1,
   "id": "f51d77ed",
   "metadata": {},
   "outputs": [],
   "source": [
    "import numpy as np\n",
    "import matplotlib.pyplot as plt"
   ]
  },
  {
   "cell_type": "code",
   "execution_count": 2,
   "id": "4bb90801",
   "metadata": {},
   "outputs": [],
   "source": [
    "def generate_gaussian_steps(num_steps):\n",
    "    \"\"\"Generate X_1 to X_n that are iid gaussian \"\"\"\n",
    "    X = np.random.normal(size=num_steps)\n",
    "    return X\n",
    "\n",
    "def generate_weiner_process(steps, n, T):\n",
    "    \"\"\"Generate a random walk that is shrunk in space and sped up in time from a sequence of steps\n",
    "        steps size: n*t\n",
    "        return size: t\n",
    "    \"\"\"\n",
    "    \n",
    "    Y = np.array([0])\n",
    "    for i in range(T):\n",
    "        Y = np.concatenate( Y, np.cumsum(steps[0:n*i])/np.sqrt(n) )\n",
    "    return Y\n",
    "\n"
   ]
  },
  {
   "cell_type": "markdown",
   "id": "434ae538",
   "metadata": {},
   "source": [
    "### Question 1\n",
    "\n",
    "\\begin{eqnarray}\n",
    "    Delta W_n = W(t_{n+1}) - W(t_n) \\\\\n",
    "              = \n",
    "\\end{eqnarray}"
   ]
  },
  {
   "cell_type": "code",
   "execution_count": null,
   "id": "7bcf89bc",
   "metadata": {},
   "outputs": [],
   "source": []
  }
 ],
 "metadata": {
  "kernelspec": {
   "display_name": "Python 3",
   "language": "python",
   "name": "python3"
  },
  "language_info": {
   "codemirror_mode": {
    "name": "ipython",
    "version": 3
   },
   "file_extension": ".py",
   "mimetype": "text/x-python",
   "name": "python",
   "nbconvert_exporter": "python",
   "pygments_lexer": "ipython3",
   "version": "3.6.15"
  }
 },
 "nbformat": 4,
 "nbformat_minor": 5
}
